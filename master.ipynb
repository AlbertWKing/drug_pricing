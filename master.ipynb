{
 "cells": [
  {
   "cell_type": "code",
   "execution_count": 2,
   "metadata": {},
   "outputs": [],
   "source": [
    "import pandas as pd\n",
    "import warnings\n",
    "warnings.filterwarnings(\"ignore\")"
   ]
  },
  {
   "cell_type": "code",
   "execution_count": 3,
   "metadata": {},
   "outputs": [
    {
     "name": "stdout",
     "output_type": "stream",
     "text": [
      "found one\n",
      "found one\n",
      "found one\n",
      "found one\n",
      "found one\n",
      "found one\n",
      "found one\n",
      "found one\n",
      "found one\n",
      "found one\n",
      "found one\n",
      "found one\n",
      "found one\n",
      "found one\n",
      "found one\n",
      "fml 65862900\n",
      "found one\n",
      "found one\n"
     ]
    }
   ],
   "source": [
    "fda_parent = pd.read_csv('data/fda_ndcs.csv')\n",
    "pricing_parent = pd.read_csv('data/pricing_data.csv')\n",
    "var = 'abacavir'\n",
    "\n",
    "fda = fda_parent[['PRODUCTNDC','NONPROPRIETARYNAME','SUBSTANCENAME','PROPRIETARYNAME','PHARM_CLASSES']]\n",
    "fda['NONPROPRIETARYNAME'] = fda['NONPROPRIETARYNAME'].str.lower()\n",
    "pricing_parent['ndc'] = pricing_parent['ndc'].astype(str)\n",
    "pricing = pricing_parent[['ndc','ndc_description','nadac_per_unit']]\n",
    "fda['PRODUCTNDC'] = fda['PRODUCTNDC'].str.replace('-', '')\n",
    "\n",
    "no_names = fda[fda['NONPROPRIETARYNAME'].isnull()].index\n",
    "no_names = no_names.to_list()\n",
    "fda.drop(index=no_names,inplace=True)\n",
    "\n",
    "pricing['ndc_description'] = pricing['ndc_description'].str.lower()\n",
    "\n",
    "var_fda = fda[fda['NONPROPRIETARYNAME'].str.contains(var)]\n",
    "var_pricing = pricing[pricing['ndc_description'].str.contains(var)]\n",
    "\n",
    "loct = var_pricing['ndc'].str[:-2]\n",
    "\n",
    "for x in list(loct.index):\n",
    "    value = loct[x]\n",
    "    if value[-4:-2] == '00':\n",
    "        loct[x] = value[:-4]+value[-3:]\n",
    "    elif value[-5:-3] == '00':\n",
    "        loct[x] = val2=value[:-5]+value[-4:]\n",
    "    elif value[-4] == '0' and len(value) == 9:\n",
    "        loct[x] = value[:-4]+value[-3:]\n",
    "    elif len(value) < 8:\n",
    "        loct[x] = \"0\" + value\n",
    "\n",
    "for x in loct:\n",
    "    if var_fda['PRODUCTNDC'].str.contains(x).sum() > 0:\n",
    "        print('found one')\n",
    "    else:\n",
    "        print(f'fml {x}')"
   ]
  }
 ],
 "metadata": {
  "kernelspec": {
   "display_name": "AKStandard",
   "language": "python",
   "name": "python3"
  },
  "language_info": {
   "codemirror_mode": {
    "name": "ipython",
    "version": 3
   },
   "file_extension": ".py",
   "mimetype": "text/x-python",
   "name": "python",
   "nbconvert_exporter": "python",
   "pygments_lexer": "ipython3",
   "version": "3.10.8"
  }
 },
 "nbformat": 4,
 "nbformat_minor": 2
}
