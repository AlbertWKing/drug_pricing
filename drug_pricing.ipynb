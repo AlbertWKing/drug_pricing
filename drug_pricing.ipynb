{
 "cells": [
  {
   "cell_type": "markdown",
   "metadata": {},
   "source": [
    "Minimum viable product is the ability to look at changes in drug pricing over time. More ideally, these data might be combined with population changes, stock changes, medicaid/medicare claims and/or enrollment data to search for correlations that improve prediction of future price."
   ]
  },
  {
   "cell_type": "code",
   "execution_count": 193,
   "metadata": {},
   "outputs": [],
   "source": [
    "# imports\n",
    "import pandas as pd"
   ]
  },
  {
   "cell_type": "code",
   "execution_count": 194,
   "metadata": {},
   "outputs": [],
   "source": [
    "# NDC drug names\n",
    "# slow to read\n",
    "fda_parent = pd.read_excel('/Users/albert/Documents/Capstone/Supplements/ndcxls/product.xlsx')"
   ]
  },
  {
   "cell_type": "code",
   "execution_count": 195,
   "metadata": {},
   "outputs": [],
   "source": [
    "# Medicaid/medicare pricing data\n",
    "pricing_parent = pd.read_csv('data/data.csv')"
   ]
  },
  {
   "cell_type": "code",
   "execution_count": 196,
   "metadata": {},
   "outputs": [
    {
     "data": {
      "text/html": [
       "<div>\n",
       "<style scoped>\n",
       "    .dataframe tbody tr th:only-of-type {\n",
       "        vertical-align: middle;\n",
       "    }\n",
       "\n",
       "    .dataframe tbody tr th {\n",
       "        vertical-align: top;\n",
       "    }\n",
       "\n",
       "    .dataframe thead th {\n",
       "        text-align: right;\n",
       "    }\n",
       "</style>\n",
       "<table border=\"1\" class=\"dataframe\">\n",
       "  <thead>\n",
       "    <tr style=\"text-align: right;\">\n",
       "      <th></th>\n",
       "      <th>PRODUCTNDC</th>\n",
       "      <th>NONPROPRIETARYNAME</th>\n",
       "      <th>SUBSTANCENAME</th>\n",
       "      <th>PROPRIETARYNAME</th>\n",
       "      <th>PHARM_CLASSES</th>\n",
       "    </tr>\n",
       "  </thead>\n",
       "  <tbody>\n",
       "    <tr>\n",
       "      <th>0</th>\n",
       "      <td>0002-0800</td>\n",
       "      <td>diluent</td>\n",
       "      <td>WATER</td>\n",
       "      <td>Sterile Diluent</td>\n",
       "      <td>NaN</td>\n",
       "    </tr>\n",
       "    <tr>\n",
       "      <th>1</th>\n",
       "      <td>0002-1200</td>\n",
       "      <td>Florbetapir F 18</td>\n",
       "      <td>FLORBETAPIR F-18</td>\n",
       "      <td>Amyvid</td>\n",
       "      <td>Positron Emitting Activity [MoA], Radioactive ...</td>\n",
       "    </tr>\n",
       "    <tr>\n",
       "      <th>2</th>\n",
       "      <td>0002-1210</td>\n",
       "      <td>Flortaucipir F-18</td>\n",
       "      <td>FLORTAUCIPIR F-18</td>\n",
       "      <td>TAUVID</td>\n",
       "      <td>NaN</td>\n",
       "    </tr>\n",
       "    <tr>\n",
       "      <th>3</th>\n",
       "      <td>0002-1220</td>\n",
       "      <td>Flortaucipir F-18</td>\n",
       "      <td>FLORTAUCIPIR F-18</td>\n",
       "      <td>TAUVID</td>\n",
       "      <td>NaN</td>\n",
       "    </tr>\n",
       "    <tr>\n",
       "      <th>4</th>\n",
       "      <td>0002-1433</td>\n",
       "      <td>Dulaglutide</td>\n",
       "      <td>DULAGLUTIDE</td>\n",
       "      <td>Trulicity</td>\n",
       "      <td>GLP-1 Receptor Agonist [EPC], Glucagon-Like Pe...</td>\n",
       "    </tr>\n",
       "  </tbody>\n",
       "</table>\n",
       "</div>"
      ],
      "text/plain": [
       "  PRODUCTNDC NONPROPRIETARYNAME      SUBSTANCENAME  PROPRIETARYNAME  \\\n",
       "0  0002-0800            diluent              WATER  Sterile Diluent   \n",
       "1  0002-1200   Florbetapir F 18   FLORBETAPIR F-18           Amyvid   \n",
       "2  0002-1210  Flortaucipir F-18  FLORTAUCIPIR F-18           TAUVID   \n",
       "3  0002-1220  Flortaucipir F-18  FLORTAUCIPIR F-18           TAUVID   \n",
       "4  0002-1433        Dulaglutide        DULAGLUTIDE        Trulicity   \n",
       "\n",
       "                                       PHARM_CLASSES  \n",
       "0                                                NaN  \n",
       "1  Positron Emitting Activity [MoA], Radioactive ...  \n",
       "2                                                NaN  \n",
       "3                                                NaN  \n",
       "4  GLP-1 Receptor Agonist [EPC], Glucagon-Like Pe...  "
      ]
     },
     "execution_count": 196,
     "metadata": {},
     "output_type": "execute_result"
    }
   ],
   "source": [
    "# I only need some of the columns available; they are also reordered here\n",
    "fda = fda_parent[['PRODUCTNDC','NONPROPRIETARYNAME','SUBSTANCENAME','PROPRIETARYNAME','PHARM_CLASSES']]\n",
    "fda.head()"
   ]
  },
  {
   "cell_type": "code",
   "execution_count": 197,
   "metadata": {},
   "outputs": [
    {
     "data": {
      "text/html": [
       "<div>\n",
       "<style scoped>\n",
       "    .dataframe tbody tr th:only-of-type {\n",
       "        vertical-align: middle;\n",
       "    }\n",
       "\n",
       "    .dataframe tbody tr th {\n",
       "        vertical-align: top;\n",
       "    }\n",
       "\n",
       "    .dataframe thead th {\n",
       "        text-align: right;\n",
       "    }\n",
       "</style>\n",
       "<table border=\"1\" class=\"dataframe\">\n",
       "  <thead>\n",
       "    <tr style=\"text-align: right;\">\n",
       "      <th></th>\n",
       "      <th>ndc</th>\n",
       "      <th>ndc_description</th>\n",
       "      <th>nadac_per_unit</th>\n",
       "    </tr>\n",
       "  </thead>\n",
       "  <tbody>\n",
       "    <tr>\n",
       "      <th>0</th>\n",
       "      <td>24385005452</td>\n",
       "      <td>12HR NASAL DECONGEST ER 120 MG</td>\n",
       "      <td>0.29229</td>\n",
       "    </tr>\n",
       "    <tr>\n",
       "      <th>1</th>\n",
       "      <td>70000047501</td>\n",
       "      <td>12HR NASAL DECONGEST ER 120 MG</td>\n",
       "      <td>0.29229</td>\n",
       "    </tr>\n",
       "    <tr>\n",
       "      <th>2</th>\n",
       "      <td>46122038576</td>\n",
       "      <td>24H NASAL ALLERGY 55 MCG SPRAY</td>\n",
       "      <td>0.72102</td>\n",
       "    </tr>\n",
       "    <tr>\n",
       "      <th>3</th>\n",
       "      <td>70000036201</td>\n",
       "      <td>24HR ALLERGY(LEVOCETIRZN) 5 MG</td>\n",
       "      <td>0.19182</td>\n",
       "    </tr>\n",
       "    <tr>\n",
       "      <th>4</th>\n",
       "      <td>70000036202</td>\n",
       "      <td>24HR ALLERGY(LEVOCETIRZN) 5 MG</td>\n",
       "      <td>0.19182</td>\n",
       "    </tr>\n",
       "  </tbody>\n",
       "</table>\n",
       "</div>"
      ],
      "text/plain": [
       "           ndc                 ndc_description  nadac_per_unit\n",
       "0  24385005452  12HR NASAL DECONGEST ER 120 MG         0.29229\n",
       "1  70000047501  12HR NASAL DECONGEST ER 120 MG         0.29229\n",
       "2  46122038576  24H NASAL ALLERGY 55 MCG SPRAY         0.72102\n",
       "3  70000036201  24HR ALLERGY(LEVOCETIRZN) 5 MG         0.19182\n",
       "4  70000036202  24HR ALLERGY(LEVOCETIRZN) 5 MG         0.19182"
      ]
     },
     "execution_count": 197,
     "metadata": {},
     "output_type": "execute_result"
    }
   ],
   "source": [
    "# importing medicare/medicaid data\n",
    "pricing_parent['ndc'] = pricing_parent['ndc'].astype(str)  # ERROR I THINK LEFT PADDING ZEROS ARE LOST ON INITIAL IMPORT???\n",
    "# only specific columns are needed\n",
    "pricing = pricing_parent[['ndc','ndc_description','nadac_per_unit']]\n",
    "pricing.head()"
   ]
  },
  {
   "cell_type": "code",
   "execution_count": 198,
   "metadata": {},
   "outputs": [
    {
     "name": "stderr",
     "output_type": "stream",
     "text": [
      "/var/folders/zd/qjtyx19s513b8nwpd06dxsmr0000gn/T/ipykernel_67063/3870925609.py:2: SettingWithCopyWarning: \n",
      "A value is trying to be set on a copy of a slice from a DataFrame.\n",
      "Try using .loc[row_indexer,col_indexer] = value instead\n",
      "\n",
      "See the caveats in the documentation: https://pandas.pydata.org/pandas-docs/stable/user_guide/indexing.html#returning-a-view-versus-a-copy\n",
      "  fda['PRODUCTNDC'] = fda['PRODUCTNDC'].str.replace('-', '')\n"
     ]
    },
    {
     "data": {
      "text/html": [
       "<div>\n",
       "<style scoped>\n",
       "    .dataframe tbody tr th:only-of-type {\n",
       "        vertical-align: middle;\n",
       "    }\n",
       "\n",
       "    .dataframe tbody tr th {\n",
       "        vertical-align: top;\n",
       "    }\n",
       "\n",
       "    .dataframe thead th {\n",
       "        text-align: right;\n",
       "    }\n",
       "</style>\n",
       "<table border=\"1\" class=\"dataframe\">\n",
       "  <thead>\n",
       "    <tr style=\"text-align: right;\">\n",
       "      <th></th>\n",
       "      <th>PRODUCTNDC</th>\n",
       "      <th>NONPROPRIETARYNAME</th>\n",
       "      <th>SUBSTANCENAME</th>\n",
       "      <th>PROPRIETARYNAME</th>\n",
       "      <th>PHARM_CLASSES</th>\n",
       "    </tr>\n",
       "  </thead>\n",
       "  <tbody>\n",
       "    <tr>\n",
       "      <th>0</th>\n",
       "      <td>00020800</td>\n",
       "      <td>diluent</td>\n",
       "      <td>WATER</td>\n",
       "      <td>Sterile Diluent</td>\n",
       "      <td>NaN</td>\n",
       "    </tr>\n",
       "    <tr>\n",
       "      <th>1</th>\n",
       "      <td>00021200</td>\n",
       "      <td>Florbetapir F 18</td>\n",
       "      <td>FLORBETAPIR F-18</td>\n",
       "      <td>Amyvid</td>\n",
       "      <td>Positron Emitting Activity [MoA], Radioactive ...</td>\n",
       "    </tr>\n",
       "    <tr>\n",
       "      <th>2</th>\n",
       "      <td>00021210</td>\n",
       "      <td>Flortaucipir F-18</td>\n",
       "      <td>FLORTAUCIPIR F-18</td>\n",
       "      <td>TAUVID</td>\n",
       "      <td>NaN</td>\n",
       "    </tr>\n",
       "    <tr>\n",
       "      <th>3</th>\n",
       "      <td>00021220</td>\n",
       "      <td>Flortaucipir F-18</td>\n",
       "      <td>FLORTAUCIPIR F-18</td>\n",
       "      <td>TAUVID</td>\n",
       "      <td>NaN</td>\n",
       "    </tr>\n",
       "    <tr>\n",
       "      <th>4</th>\n",
       "      <td>00021433</td>\n",
       "      <td>Dulaglutide</td>\n",
       "      <td>DULAGLUTIDE</td>\n",
       "      <td>Trulicity</td>\n",
       "      <td>GLP-1 Receptor Agonist [EPC], Glucagon-Like Pe...</td>\n",
       "    </tr>\n",
       "  </tbody>\n",
       "</table>\n",
       "</div>"
      ],
      "text/plain": [
       "  PRODUCTNDC NONPROPRIETARYNAME      SUBSTANCENAME  PROPRIETARYNAME  \\\n",
       "0   00020800            diluent              WATER  Sterile Diluent   \n",
       "1   00021200   Florbetapir F 18   FLORBETAPIR F-18           Amyvid   \n",
       "2   00021210  Flortaucipir F-18  FLORTAUCIPIR F-18           TAUVID   \n",
       "3   00021220  Flortaucipir F-18  FLORTAUCIPIR F-18           TAUVID   \n",
       "4   00021433        Dulaglutide        DULAGLUTIDE        Trulicity   \n",
       "\n",
       "                                       PHARM_CLASSES  \n",
       "0                                                NaN  \n",
       "1  Positron Emitting Activity [MoA], Radioactive ...  \n",
       "2                                                NaN  \n",
       "3                                                NaN  \n",
       "4  GLP-1 Receptor Agonist [EPC], Glucagon-Like Pe...  "
      ]
     },
     "execution_count": 198,
     "metadata": {},
     "output_type": "execute_result"
    }
   ],
   "source": [
    "# remove hyphen/dash in NDC for fda\n",
    "fda['PRODUCTNDC'] = fda['PRODUCTNDC'].str.replace('-', '')\n",
    "fda.head()"
   ]
  },
  {
   "cell_type": "code",
   "execution_count": 199,
   "metadata": {},
   "outputs": [
    {
     "name": "stdout",
     "output_type": "stream",
     "text": [
      "<class 'pandas.core.frame.DataFrame'>\n",
      "RangeIndex: 104293 entries, 0 to 104292\n",
      "Data columns (total 5 columns):\n",
      " #   Column              Non-Null Count   Dtype \n",
      "---  ------              --------------   ----- \n",
      " 0   PRODUCTNDC          104293 non-null  object\n",
      " 1   NONPROPRIETARYNAME  104289 non-null  object\n",
      " 2   SUBSTANCENAME       102001 non-null  object\n",
      " 3   PROPRIETARYNAME     104274 non-null  object\n",
      " 4   PHARM_CLASSES       64955 non-null   object\n",
      "dtypes: object(5)\n",
      "memory usage: 4.0+ MB\n"
     ]
    }
   ],
   "source": [
    "fda.info()"
   ]
  },
  {
   "cell_type": "code",
   "execution_count": 200,
   "metadata": {},
   "outputs": [
    {
     "name": "stdout",
     "output_type": "stream",
     "text": [
      "8.288801741248214\n",
      "10.527122418934733\n"
     ]
    }
   ],
   "source": [
    "# the length of the NDCs are not the same making this more involved than it ought to be\n",
    "print(fda['PRODUCTNDC'].str.len().mean())\n",
    "print(pricing['ndc'].str.len().mean())"
   ]
  },
  {
   "cell_type": "code",
   "execution_count": 201,
   "metadata": {},
   "outputs": [
    {
     "data": {
      "text/plain": [
       "0"
      ]
     },
     "execution_count": 201,
     "metadata": {},
     "output_type": "execute_result"
    }
   ],
   "source": [
    "# trying to get the number of terms present common to both ndc lists\n",
    "fda['PRODUCTNDC'].isin(pricing['ndc']).sum()\n",
    "len(set(fda['PRODUCTNDC'])&set(pricing['ndc']))"
   ]
  },
  {
   "cell_type": "markdown",
   "metadata": {},
   "source": [
    "okay this is messy let's reduce to a smaller set to work with like maybe only zinc supplements"
   ]
  },
  {
   "cell_type": "code",
   "execution_count": 202,
   "metadata": {},
   "outputs": [
    {
     "data": {
      "text/html": [
       "<div>\n",
       "<style scoped>\n",
       "    .dataframe tbody tr th:only-of-type {\n",
       "        vertical-align: middle;\n",
       "    }\n",
       "\n",
       "    .dataframe tbody tr th {\n",
       "        vertical-align: top;\n",
       "    }\n",
       "\n",
       "    .dataframe thead th {\n",
       "        text-align: right;\n",
       "    }\n",
       "</style>\n",
       "<table border=\"1\" class=\"dataframe\">\n",
       "  <thead>\n",
       "    <tr style=\"text-align: right;\">\n",
       "      <th></th>\n",
       "      <th>PRODUCTNDC</th>\n",
       "      <th>NONPROPRIETARYNAME</th>\n",
       "      <th>SUBSTANCENAME</th>\n",
       "      <th>PROPRIETARYNAME</th>\n",
       "      <th>PHARM_CLASSES</th>\n",
       "    </tr>\n",
       "  </thead>\n",
       "  <tbody>\n",
       "    <tr>\n",
       "      <th>57356</th>\n",
       "      <td>621065367</td>\n",
       "      <td>Zinc</td>\n",
       "      <td>ZINC</td>\n",
       "      <td>ZINCUM METALLICUM</td>\n",
       "      <td>NaN</td>\n",
       "    </tr>\n",
       "  </tbody>\n",
       "</table>\n",
       "</div>"
      ],
      "text/plain": [
       "      PRODUCTNDC NONPROPRIETARYNAME SUBSTANCENAME    PROPRIETARYNAME  \\\n",
       "57356  621065367               Zinc          ZINC  ZINCUM METALLICUM   \n",
       "\n",
       "      PHARM_CLASSES  \n",
       "57356           NaN  "
      ]
     },
     "execution_count": 202,
     "metadata": {},
     "output_type": "execute_result"
    }
   ],
   "source": [
    "fda.loc[fda['NONPROPRIETARYNAME']=='Zinc']"
   ]
  },
  {
   "cell_type": "markdown",
   "metadata": {},
   "source": [
    "There are too many and too few zinc so I'll use 'abacavir' since I know that there are common NDCs between the two files"
   ]
  },
  {
   "cell_type": "markdown",
   "metadata": {},
   "source": [
    "ran into an issue where there are null values in the fda list, so I can't search by names. Need to remove nulls; there are only 4"
   ]
  },
  {
   "cell_type": "code",
   "execution_count": 203,
   "metadata": {},
   "outputs": [
    {
     "name": "stdout",
     "output_type": "stream",
     "text": [
      "There are 4 rows without nonproprietary names. The rows are [38715, 38718, 51039, 99618] and the substances are ['BENZALKONIUM CHLORIDE', 'BENZALKONIUM CHLORIDE', 'AVOBENZONE; OCTOCRYLENE; OXYBENZONE', 'BENZALKONIUM CHLORIDE'].\n"
     ]
    }
   ],
   "source": [
    "no_names = fda[fda['NONPROPRIETARYNAME'].isnull()].index\n",
    "no_names = no_names.to_list()\n",
    "print(f\"There are {len(no_names)} rows without nonproprietary names. The rows are {no_names} and the substances are {list(fda['SUBSTANCENAME'].loc[no_names])}.\")"
   ]
  },
  {
   "cell_type": "code",
   "execution_count": 204,
   "metadata": {},
   "outputs": [
    {
     "name": "stdout",
     "output_type": "stream",
     "text": [
      "There are 0 rows without nonproprietary names. The rows are [] and the substances are [].\n"
     ]
    },
    {
     "name": "stderr",
     "output_type": "stream",
     "text": [
      "/var/folders/zd/qjtyx19s513b8nwpd06dxsmr0000gn/T/ipykernel_67063/1314845254.py:1: SettingWithCopyWarning: \n",
      "A value is trying to be set on a copy of a slice from a DataFrame\n",
      "\n",
      "See the caveats in the documentation: https://pandas.pydata.org/pandas-docs/stable/user_guide/indexing.html#returning-a-view-versus-a-copy\n",
      "  fda.drop(index=no_names,inplace=True)\n"
     ]
    }
   ],
   "source": [
    "fda.drop(index=no_names,inplace=True)\n",
    "no_names = fda[fda['NONPROPRIETARYNAME'].isnull()].index\n",
    "no_names = no_names.to_list()\n",
    "print(f\"There are {len(no_names)} rows without nonproprietary names. The rows are {no_names} and the substances are {list(fda['SUBSTANCENAME'].loc[no_names])}.\")"
   ]
  },
  {
   "cell_type": "code",
   "execution_count": 205,
   "metadata": {},
   "outputs": [
    {
     "name": "stdout",
     "output_type": "stream",
     "text": [
      "[67, 68, 69, 84, 85, 86, 87, 142, 163, 209, 241, 253, 280, 385, 386, 387, 388, 389, 405, 406, 407, 408, 409, 410, 411, 412, 413, 414, 415, 416, 472, 482, 520, 521, 526, 529, 584, 585, 586, 587, 588, 589, 590, 591, 592, 593, 594, 595, 596, 597, 677, 734, 739, 740, 741, 742, 743, 744, 745, 746, 747, 748, 749, 750, 751, 752, 753, 754, 755, 756, 757, 758, 759, 760, 761, 762, 763, 764, 765, 766, 767, 768, 769, 770, 771, 772, 773, 774, 775, 776, 777, 778, 779, 780, 1032, 1033, 1040, 1075, 1079, 1081, 1088, 1094, 1101, 1103, 1104, 1105, 1109, 1153, 1162, 1168, 1186, 1187, 1317, 1318, 1319, 1321, 1325, 1326, 1327, 1328, 1332, 1333, 1334, 1338, 1339, 1343, 1344, 1350, 1359, 1361, 1362, 1363, 1364, 1365, 1367, 1368, 1371, 1406, 1508, 1548, 1562, 1564, 1565, 1578, 1580, 1581, 1598, 1620, 1621, 1622, 1721, 1767, 1784, 1802, 1814, 1867, 1880, 1913, 1914, 2002, 2017, 2086, 2091, 2092, 2155, 2248, 2285, 2294, 2296, 2321, 2324, 2327, 2331, 2343, 2348, 2350, 2711, 2849, 3299, 3300, 3301, 3302, 3303, 3304, 3305, 3306, 3307, 3308, 3314, 3315, 3316, 3317, 3318, 3319, 3320, 3321, 3322, 3323, 3324, 3325, 3326, 3327, 3328, 3357, 3392, 3393, 3394, 3400, 3401, 3402, 3405, 3457, 3458, 3611, 3938, 3939, 3941, 4138, 5245, 5246, 5279, 5284, 5286, 5298, 5304, 5308, 5315, 5323, 5327, 5329, 5335, 5337, 5338, 5341, 5345, 5346, 5403, 5464, 5544, 5554, 5685, 5686, 5687, 5790, 5791, 5792, 5793, 5794, 5795, 5926, 5982, 6086, 6114, 6123, 6141, 6143, 6166, 6169, 6217, 6219, 6225, 6230, 6231, 6243, 6261, 6278, 6303, 6416, 6436, 6438, 6458, 6474, 6479, 6555, 6574, 6586, 6592, 6602, 6611, 6615, 6647, 6652, 6675, 6676, 6678, 6681, 6682, 6687, 6734, 6797, 6798, 6799, 6805, 6809, 6874, 6910, 7282, 7324, 7325, 7326, 7327, 7328, 7329, 7334, 7335, 7336, 7337, 7338, 7339, 7340, 7341, 7342, 7383, 7384, 8211, 8214, 8230, 8231, 8242, 8247, 8255, 8264, 8443, 8444, 8445, 8446, 8447, 8448, 8449, 8450, 8451, 8452, 8453, 8454, 8455, 8456, 8457, 8458, 8459, 8460, 8461, 8462, 8463, 8464, 8465, 8466, 8467, 8468, 8469, 8470, 8471, 8472, 8473, 8474, 8475, 8476, 8477, 8478, 8479, 8480, 8481, 8482, 8483, 8484, 8485, 8486, 8487, 8488, 8489, 8490, 8491, 8492, 8493, 8494, 8495, 8496, 8497, 8498, 8499, 8500, 8501, 8502, 8503, 8504, 8505, 8506, 8507, 8508, 8509, 8510, 8511, 8512, 8513, 8514, 8515, 8516, 8517, 8518, 8519, 8520, 8521, 8522, 8523, 8524, 8525, 8526, 8527, 8528, 8529, 8530, 8531, 8532, 8533, 8534, 8535, 8536, 8537, 8538, 8539, 8540, 8541, 8542, 8543, 8544, 8545, 8546, 8547, 8548, 8549, 8550, 8551, 8552, 8553, 8554, 8555, 8556, 8557, 8558, 8559, 8560, 8561, 8562, 8563, 8564, 8565, 8566, 8567, 8568, 8569, 8570, 8571, 8572, 8573, 8574, 8575, 8576, 8577, 8578, 8579, 8580, 8581, 8582, 8583, 8584, 8585, 8586, 8587, 8588, 8589, 8590, 8591, 8592, 8593, 8594, 8595, 8596, 8597, 8598, 8599, 8600, 8601, 8602, 8603, 8604, 8605, 8606, 8607, 8608, 8609, 8610, 8611, 8612, 8613, 8614, 8615, 8616, 8617, 8618, 8619, 8620, 8621, 8622, 8623, 8624, 8625, 8626, 8627, 8628, 8629, 8630, 8631, 8632, 8633, 8634, 8635, 8636, 8637, 8638, 8639, 8640, 8641, 8644, 8645, 9119, 9169, 9171, 9172, 9173, 9174, 9175, 9176, 9178, 9180, 9181, 9182, 9183, 9184, 9185, 9186, 9187, 9188, 9189, 9190, 9191, 9192, 9245, 9246, 9248, 9258, 9500, 9600, 10147, 10148, 10156, 10157, 10533, 10555, 10556, 10557, 10558, 10559, 10560, 10662, 10666, 10687, 10688, 10689, 10690, 10996, 11679, 11680, 11681, 11682, 11683, 11684, 11685, 11686, 11687, 11688, 11689, 11690, 11691, 11692, 11693, 11694, 11695, 11696, 11697, 11714, 11715, 11716, 11717, 11718, 11719, 11720, 11722, 11723, 11724, 11725, 11726, 11727, 11728, 11731, 11732, 11733, 11734, 11735, 11736, 11737, 11738, 11739, 11740, 11741, 11742, 11743, 11744, 11745, 11746, 11747, 11748, 11749, 11750, 11751, 11752, 11753, 11754, 11755, 11756, 11757, 11758, 11909, 11910, 11911, 11912, 11913, 11914, 11945, 11946, 12117, 12125, 12126, 12127, 12128, 12166, 12179, 12180, 12181, 12182, 12183, 12184, 12185, 12187, 12323, 12384, 12614, 12777, 12926, 13083, 13166, 13186, 13200, 13243, 13349, 13360, 13443, 13524, 13543, 13559, 13563, 13575, 13601, 13616, 13617, 13638, 13640, 13655, 13671, 13677, 13712, 13719, 13720, 13739, 13751, 13760, 13762, 13783, 13785, 13904, 13928, 13953, 13955, 13967, 14015, 14023, 14041, 14108, 14138, 14139, 14149, 14168, 14169, 14224, 14290, 14309, 14360, 14375, 14392, 14393, 14394, 14407, 14440, 14501, 14503, 14647, 14648, 14649, 14660, 14661, 14663, 14884, 14953, 15298, 15299, 15365, 15458, 15575, 15586, 15911, 15987, 15989, 15990, 15991, 15997, 15998, 15999, 16000, 16001, 16002, 16019, 16020, 16021, 16022, 16023, 16024, 16026, 16027, 16044, 16096, 16453, 16607, 16608, 16724, 16726, 16733, 16797, 16894, 16913, 17125, 17131, 17150, 17182, 17296, 17310, 17389, 17455, 17457, 17464, 17481, 19073, 19122, 19178, 19328, 19427, 19441, 19442, 19475, 19487, 19488, 19506, 19528, 19697, 19702, 19705, 19709, 20020, 20277, 20571, 20615, 20633, 20643, 20698, 20715, 20771, 20782, 20831, 20844, 20853, 20880, 20888, 20911, 20913, 21034, 21383, 21483, 21490, 21515, 21772, 21894, 21898, 22043, 22344, 22395, 22420, 22451, 22504, 22590, 22593, 22595, 22599, 22613, 22655, 22660, 22694, 22711, 22787, 22839, 22840, 22841, 22896, 22905, 22913, 22940, 22966, 22967, 22992, 23040, 23041, 25807, 25810, 25827, 25837, 25841, 25975, 25978, 26011, 26387, 26497, 26506, 26554, 26587, 26606, 26858, 26870, 26892, 26958, 27192, 27226, 27279, 27286, 27294, 27301, 27307, 27308, 27333, 27343, 27350, 27387, 27407, 27427, 27565, 27577, 27616, 27648, 27712, 27735, 27744, 27747, 27771, 27935, 27963, 27974, 28145, 28151, 28159, 28351, 28352, 28472, 28477, 28478, 28479, 28480, 29091, 29092, 29093, 29118, 29119, 29120, 29692, 29697, 29971, 29997, 30294, 30297, 30301, 30304, 30306, 30308, 30310, 30312, 30314, 30317, 30536, 30641, 30662, 30738, 31867, 31868, 31869, 31870, 31873, 31874, 31875, 31880, 31883, 31887, 31888, 31889, 31890, 31901, 31902, 32345, 32533, 32534, 32535, 32536, 32577, 32580, 32762, 32801, 32900, 32954, 32965, 33539, 33657, 34157, 35338, 35399, 35405, 35467, 35480, 35488, 35615, 35616, 35617, 35642, 35694, 35704, 35706, 35712, 35743, 35754, 35830, 35831, 35836, 35843, 35846, 35874, 35875, 35915, 35919, 35920, 35925, 36050, 36078, 36136, 36389, 36392, 36393, 36394, 36395, 36421, 36426, 36428, 36429, 36430, 36448, 36449, 36463, 36698, 36699, 36700, 36710, 37011, 37256, 37342, 37361, 37362, 37379, 37383, 37405, 37495, 37496, 37497, 37531, 37666, 37974, 38127, 38202, 38394, 38395, 38396, 38397, 38398, 38399, 38400, 38401, 38402, 38729, 38745, 38757, 39329, 39330, 39331, 39332, 39333, 39348, 39356, 39357, 39360, 39361, 39403, 39411, 39412, 39413, 39414, 39444, 39464, 39485, 39494, 39562, 39564, 39565, 39579, 39580, 39586, 39601, 39614, 39615, 39643, 39644, 39704, 39738, 39763, 39836, 39839, 39922, 39974, 40026, 40027, 40028, 40029, 40030, 40035, 40117, 40236, 40238, 40304, 40305, 40310, 40322, 40332, 40341, 40369, 40387, 40396, 40629, 40630, 40634, 40638, 40703, 40704, 40705, 40706, 40707, 40709, 40711, 40718, 40782, 40810, 40817, 40822, 40888, 41321, 41364, 41365, 41372, 41373, 41376, 41378, 41379, 41382, 41383, 41590, 41740, 41746, 41910, 41911, 41912, 41913, 42103, 42335, 42336, 42341, 42353, 42378, 42381, 42383, 42387, 42393, 42412, 42413, 42414, 42423, 42424, 42425, 42426, 42429, 42430, 42431, 42432, 42445, 42450, 42451, 42969, 43011, 43012, 43179, 43526, 43580, 43734, 43765, 44015, 44065, 44072, 44448, 44449, 44450, 44451, 44452, 44453, 44454, 44455, 44456, 44457, 44571, 44593, 44803, 45056, 45108, 45114, 45118, 45307, 45375, 45388, 45390, 45391, 45392, 45396, 45399, 45400, 45401, 45425, 45455, 45984, 45985, 45986, 45991, 46455, 46594, 46595, 46596, 46597, 46598, 46646, 46702, 46709, 46742, 46744, 46750, 46900, 46974, 46985, 46994, 47042, 47060, 47065, 47069, 47090, 47198, 47199, 47201, 47212, 47217, 47230, 47279, 47280, 47281, 47282, 47293, 47294, 47295, 47982, 47983, 48006, 48118, 48121, 48326, 48331, 48335, 48376, 48445, 48462, 48479, 48535, 48541, 48557, 48610, 48628, 48703, 48721, 49136, 49315, 50178, 50179, 50182, 50183, 50188, 50189, 50191, 50192, 50205, 50561, 50562, 50563, 50564, 50565, 50566, 50567, 50568, 50569, 50570, 50571, 50572, 50573, 50574, 50590, 51198, 51480, 51840, 51841, 51842, 51844, 51845, 51882, 51883, 51884, 51887, 51919, 51923, 51924, 51925, 51926, 51927, 51928, 51929, 51930, 51931, 51932, 51933, 51934, 51935, 51936, 51937, 51938, 51939, 51940, 51941, 51943, 51944, 51945, 51946, 51947, 51948, 51949, 51950, 51956, 51957, 51971, 51972, 51973, 51974, 51975, 51976, 51993, 51994, 52009, 52013, 52014, 52015, 52018, 52019, 52020, 52124, 52125, 52151, 52152, 52153, 52191, 52249, 52250, 52251, 52252, 52253, 52254, 52255, 52256, 52257, 52258, 52259, 52260, 52261, 52262, 52263, 52264, 52265, 52266, 52267, 52421, 52423, 52424, 52448, 52449, 52457, 52458, 52487, 52488, 52599, 52644, 52728, 52741, 52903, 53030, 53117, 53130, 53140, 53158, 53162, 53202, 53205, 53209, 53227, 53308, 53309, 53310, 53311, 53424, 53451, 53453, 53512, 54076, 54077, 54078, 54079, 54861, 54862, 54863, 54870, 55029, 55157, 55158, 55159, 55829, 55896, 55897, 55898, 55899, 55901, 55902, 55930, 55936, 56475, 56476, 56477, 56478, 56623, 56722, 56754, 57040, 57062, 57085, 57086, 57087, 57088, 57089, 57090, 57091, 57092, 57093, 57101, 57103, 57104, 57143, 57557, 57808, 58587, 58960, 59043, 59089, 59090, 59092, 59117, 59118, 59119, 59120, 59121, 59147, 59193, 60401, 60540, 60657, 60784, 60785, 60803, 61004, 61332, 61339, 61340, 61427, 61474, 61684, 61690, 61699, 61723, 61749, 61754, 61755, 61929, 63080, 63420, 63421, 63422, 63429, 63430, 63431, 63435, 63436, 63437, 63530, 64214, 64215, 64281, 64285, 64346, 64738, 64739, 64741, 64742, 64743, 64747, 64751, 64984, 64985, 64986, 64989, 64990, 64991, 64997, 64998, 64999, 65004, 65005, 65014, 65042, 65044, 65048, 65049, 65052, 65055, 65064, 65065, 65071, 65085, 65094, 65098, 65099, 65108, 65113, 65121, 65122, 65123, 65124, 65125, 65126, 65127, 65128, 65129, 65141, 65248, 65324, 65347, 65743, 65912, 66064, 66487, 66488, 66489, 66493, 66494, 66504, 66694, 66697, 66699, 67030, 67031, 68288, 68289, 68290, 68291, 68292, 68293, 68294, 68295, 68296, 68297, 68298, 68299, 68300, 68301, 68302, 68303, 68555, 68786, 68846, 69001, 69002, 69003, 69004, 69005, 69006, 69007, 69013, 69019, 69118, 69119, 69120, 69123, 69124, 69364, 69365, 69787, 69788, 69789, 69821, 69822, 69837, 69838, 69839, 69856, 69857, 69860, 69861, 69862, 69874, 69881, 69887, 69888, 69911, 69912, 69913, 69914, 69915, 70139, 70145, 70159, 70160, 70161, 70162, 70163, 70236, 70237, 70239, 70244, 70307, 70308, 70813, 70878, 71197, 71216, 71246, 71264, 71415, 71425, 71440, 71441, 71796, 71809, 71841, 71867, 71874, 71961, 72007, 72154, 72273, 72454, 73018, 73019, 73106, 73129, 73150, 73153, 73179, 73200, 73201, 73202, 73203, 73204, 73205, 73206, 73207, 73208, 73209, 73210, 73211, 73212, 73213, 73214, 73215, 73216, 74113, 74128, 74531, 74533, 74534, 74540, 74869, 74870, 74871, 74872, 74873, 74874, 74875, 74878, 74879, 74883, 74884, 74885, 74886, 74887, 74888, 74892, 74893, 74894, 74895, 74896, 74897, 74898, 74899, 74900, 74901, 75060, 75107, 75175, 75176, 75203, 75763, 75781, 75794, 75798, 76257, 76355, 76358, 76360, 76384, 76393, 76396, 76409, 76447, 76459, 76463, 76468, 76494, 76497, 76512, 76515, 76516, 76528, 76531, 76577, 76591, 76614, 76615, 76616, 76617, 76618, 76619, 76620, 76621, 76622, 76623, 76624, 76625, 76626, 76627, 76628, 76629, 76630, 76631, 76632, 76633, 76634, 76635, 76649, 76650, 76651, 76652, 76749, 76872, 76924, 76925, 77059, 77090, 77125, 77245, 77530, 78006, 78007, 78025, 78043, 78045, 78046, 78048, 78053, 78054, 78096, 78097, 78098, 78099, 78100, 78101, 78102, 78103, 78105, 78330, 78471, 78575, 78623, 78625, 78627, 78628, 78631, 78778, 78808, 78814, 78815, 78816, 78817, 78818, 78819, 78820, 78821, 78831, 78890, 79047, 79058, 79061, 79065, 79066, 79067, 79073, 79079, 79184, 79190, 79231, 79238, 79239, 79261, 79619, 79620, 79781, 79782, 80036, 80050, 80053, 80057, 80058, 80207, 80212, 80238, 80252, 80254, 80255, 80256, 80257, 80258, 80259, 80260, 80261, 80262, 80263, 80264, 80265, 80424, 80667, 80955, 80956, 80967, 81036, 81155, 81156, 81157, 81196, 81212, 81220, 81222, 81245, 81259, 81276, 81298, 81325, 81375, 81377, 81400, 81418, 81429, 81432, 81437, 81451, 81493, 81503, 81505, 81523, 81543, 81548, 81553, 81561, 81562, 81578, 81585, 81586, 81595, 81621, 81687, 81688, 81729, 81730, 81731, 81732, 81733, 81734, 81735, 81736, 81737, 81738, 81739, 81740, 81782, 81786, 81853, 82003, 82036, 82059, 82060, 82089, 82090, 82093, 82141, 82146, 82159, 82160, 82161, 82174, 82182, 82199, 82207, 82228, 82230, 82231, 82276, 82782, 82783, 82889, 82892, 83026, 83071, 83072, 83073, 83074, 83075, 83076, 83286, 83380, 83381, 83382, 83503, 83541, 83542, 83822, 84205, 85050, 85051, 85052, 85053, 85065, 85066, 85067, 85071, 85072, 85076, 85077, 85079, 85080, 85082, 85083, 85084, 85085, 85086, 85164, 85165, 85166, 85167, 85168, 85169, 85170, 85171, 85256, 85345, 85451, 85463, 85468, 85469, 85470, 85471, 85472, 85473, 85474, 85475, 85476, 85477, 85478, 85479, 85487, 85523, 85681, 85705, 86308, 86427, 86443, 86475, 86476, 86477, 86512, 86518, 87041, 87051, 87052, 87053, 87054, 87055, 87056, 87057, 87058, 87059, 87085, 87092, 87120, 87161, 87163, 87171, 87313, 87314, 87315, 87316, 87317, 87318, 87319, 87320, 87321, 87322, 87323, 87324, 87325, 87326, 87327, 87328, 87401, 87560, 87586, 87603, 87698, 88071, 88127, 88414, 88437, 88538, 88546, 88549, 88705, 88706, 90492, 90594, 90627, 90628, 90629, 90683, 90690, 91361, 91362, 91365, 91366, 91367, 91368, 91504, 91515, 91952, 91956, 91957, 91959, 91961, 91987, 91988, 91989, 91990, 91991, 91992, 91993, 91994, 91995, 91996, 91997, 91998, 91999, 92000, 92001, 92002, 92003, 92004, 92005, 92006, 92007, 92008, 92098, 92126, 92127, 92128, 92205, 92206, 92227, 92275, 92276, 92316, 92458, 92459, 92523, 92524, 92525, 92938, 92939, 93051, 93146, 93179, 93180, 93192, 93232, 93241, 93347, 93353, 93361, 93363, 93395, 93407, 93445, 93502, 93503, 93511, 93513, 93742, 93806, 93821, 93886, 93895, 93896, 93897, 93898, 93947, 93948, 93949, 93950, 93951, 93952, 94272, 94273, 94347, 94366, 94455, 94456, 94815, 94819, 94820, 94863, 94864, 94865, 94866, 94867, 94868, 94869, 94870, 94871, 94915, 95072, 95074, 95078, 95091, 95092, 95094, 95095, 95553, 95554, 95555, 95556, 95602, 95632, 95667, 95907, 96015, 96230, 96243, 96279, 96280, 96281, 96282, 96283, 96284, 96285, 96286, 96334, 96464, 96843, 96889, 96890, 96891, 96931, 96932, 96933, 96961, 97158, 97159, 97366, 97451, 97452, 97565, 97635, 97636, 97751, 97752, 97753, 97754, 97755, 97756, 97757, 97758, 97759, 97760, 97761, 97762, 97763, 97764, 97765, 97766, 97767, 97768, 98358, 98376, 98442, 98443, 98444, 98445, 98446, 98447, 98448, 98449, 98450, 98739, 98807, 98825, 98826, 98827, 98831, 98835, 98837, 98840, 98841, 98842, 98843, 98844, 98845, 98846, 98847, 98848, 98849, 98850, 98851, 98852, 98853, 98854, 98855, 98856, 98857, 98858, 98859, 98860, 98861, 98862, 99832, 99979, 99980, 99981, 100010, 100011, 100014, 100175, 100434, 100435, 100461, 100462, 100494, 100496, 100847, 100855, 100873, 100883, 100884, 100885, 100886, 100887, 100888, 100889, 100902, 100903, 100904, 100989, 100990, 101571, 101614, 101652, 101720, 101768, 101795, 101796, 101797, 101798, 101999, 102000, 102032, 102033, 102034, 102035, 102036, 102037, 102041, 102231, 102232, 102241, 102328, 102542, 102545, 102725, 102819, 102820, 102821, 102822, 102994, 103057, 103058, 103119, 103126, 103240, 103241, 103316, 103393, 103394, 103658, 104005]\n"
     ]
    },
    {
     "name": "stderr",
     "output_type": "stream",
     "text": [
      "/var/folders/zd/qjtyx19s513b8nwpd06dxsmr0000gn/T/ipykernel_67063/4057272107.py:1: SettingWithCopyWarning: \n",
      "A value is trying to be set on a copy of a slice from a DataFrame\n",
      "\n",
      "See the caveats in the documentation: https://pandas.pydata.org/pandas-docs/stable/user_guide/indexing.html#returning-a-view-versus-a-copy\n",
      "  fda.drop(index=no_names,inplace=True)\n"
     ]
    }
   ],
   "source": [
    "fda.drop(index=no_names,inplace=True)\n",
    "no_names = fda[fda['SUBSTANCENAME'].isnull()].index\n",
    "no_names = no_names.to_list()\n",
    "print(no_names)\n",
    "# print(f\"There are {len(no_names)} rows without nonproprietary names. The rows are {no_names} and the substances are {list(fda['SUBSTANCENAME'].loc[no_names])}.\")"
   ]
  },
  {
   "cell_type": "code",
   "execution_count": 206,
   "metadata": {},
   "outputs": [],
   "source": [
    "# so that I don't have to keep making changes just putting drug in a variable called var\n",
    "var = 'abacavir'"
   ]
  },
  {
   "cell_type": "code",
   "execution_count": 207,
   "metadata": {},
   "outputs": [
    {
     "name": "stdout",
     "output_type": "stream",
     "text": [
      "27\n"
     ]
    },
    {
     "name": "stderr",
     "output_type": "stream",
     "text": [
      "/var/folders/zd/qjtyx19s513b8nwpd06dxsmr0000gn/T/ipykernel_67063/969232306.py:1: SettingWithCopyWarning: \n",
      "A value is trying to be set on a copy of a slice from a DataFrame.\n",
      "Try using .loc[row_indexer,col_indexer] = value instead\n",
      "\n",
      "See the caveats in the documentation: https://pandas.pydata.org/pandas-docs/stable/user_guide/indexing.html#returning-a-view-versus-a-copy\n",
      "  fda['NONPROPRIETARYNAME'] = fda['NONPROPRIETARYNAME'].str.lower()\n"
     ]
    }
   ],
   "source": [
    "fda['NONPROPRIETARYNAME'] = fda['NONPROPRIETARYNAME'].str.lower()\n",
    "var_fda = fda[fda['NONPROPRIETARYNAME'].str.contains(var)]\n",
    "print(len(var_fda))\n",
    "# print(var_fda)\n",
    "\n",
    "# var_fda = fda[fda['NONPROPRIETARYNAME'].str.contains(var)] \n",
    "# print(len(var_fda))\n",
    "# # print(var_fda) "
   ]
  },
  {
   "cell_type": "code",
   "execution_count": 208,
   "metadata": {},
   "outputs": [
    {
     "name": "stdout",
     "output_type": "stream",
     "text": [
      "18\n"
     ]
    },
    {
     "name": "stderr",
     "output_type": "stream",
     "text": [
      "/var/folders/zd/qjtyx19s513b8nwpd06dxsmr0000gn/T/ipykernel_67063/1859290897.py:1: SettingWithCopyWarning: \n",
      "A value is trying to be set on a copy of a slice from a DataFrame.\n",
      "Try using .loc[row_indexer,col_indexer] = value instead\n",
      "\n",
      "See the caveats in the documentation: https://pandas.pydata.org/pandas-docs/stable/user_guide/indexing.html#returning-a-view-versus-a-copy\n",
      "  pricing['ndc_description'] = pricing['ndc_description'].str.lower()\n"
     ]
    }
   ],
   "source": [
    "pricing['ndc_description'] = pricing['ndc_description'].str.lower()\n",
    "var_pricing = pricing[pricing['ndc_description'].str.contains(var)]\n",
    "print(len(var_pricing))"
   ]
  },
  {
   "cell_type": "code",
   "execution_count": 213,
   "metadata": {},
   "outputs": [
    {
     "data": {
      "text/html": [
       "<div>\n",
       "<style scoped>\n",
       "    .dataframe tbody tr th:only-of-type {\n",
       "        vertical-align: middle;\n",
       "    }\n",
       "\n",
       "    .dataframe tbody tr th {\n",
       "        vertical-align: top;\n",
       "    }\n",
       "\n",
       "    .dataframe thead th {\n",
       "        text-align: right;\n",
       "    }\n",
       "</style>\n",
       "<table border=\"1\" class=\"dataframe\">\n",
       "  <thead>\n",
       "    <tr style=\"text-align: right;\">\n",
       "      <th></th>\n",
       "      <th>ndc</th>\n",
       "      <th>PRODUCTNDC</th>\n",
       "    </tr>\n",
       "  </thead>\n",
       "  <tbody>\n",
       "    <tr>\n",
       "      <th>12</th>\n",
       "      <td>378410591</td>\n",
       "      <td>NaN</td>\n",
       "    </tr>\n",
       "    <tr>\n",
       "      <th>13</th>\n",
       "      <td>904687404</td>\n",
       "      <td>NaN</td>\n",
       "    </tr>\n",
       "    <tr>\n",
       "      <th>14</th>\n",
       "      <td>904687406</td>\n",
       "      <td>NaN</td>\n",
       "    </tr>\n",
       "    <tr>\n",
       "      <th>15</th>\n",
       "      <td>31722055760</td>\n",
       "      <td>NaN</td>\n",
       "    </tr>\n",
       "    <tr>\n",
       "      <th>16</th>\n",
       "      <td>50268004911</td>\n",
       "      <td>NaN</td>\n",
       "    </tr>\n",
       "    <tr>\n",
       "      <th>17</th>\n",
       "      <td>50268004912</td>\n",
       "      <td>NaN</td>\n",
       "    </tr>\n",
       "    <tr>\n",
       "      <th>18</th>\n",
       "      <td>51079020401</td>\n",
       "      <td>NaN</td>\n",
       "    </tr>\n",
       "    <tr>\n",
       "      <th>19</th>\n",
       "      <td>51079020406</td>\n",
       "      <td>NaN</td>\n",
       "    </tr>\n",
       "    <tr>\n",
       "      <th>20</th>\n",
       "      <td>64380071703</td>\n",
       "      <td>NaN</td>\n",
       "    </tr>\n",
       "    <tr>\n",
       "      <th>21</th>\n",
       "      <td>65862007360</td>\n",
       "      <td>NaN</td>\n",
       "    </tr>\n",
       "    <tr>\n",
       "      <th>22</th>\n",
       "      <td>68084002111</td>\n",
       "      <td>NaN</td>\n",
       "    </tr>\n",
       "    <tr>\n",
       "      <th>23</th>\n",
       "      <td>68084002121</td>\n",
       "      <td>NaN</td>\n",
       "    </tr>\n",
       "    <tr>\n",
       "      <th>24</th>\n",
       "      <td>69097051403</td>\n",
       "      <td>NaN</td>\n",
       "    </tr>\n",
       "    <tr>\n",
       "      <th>25</th>\n",
       "      <td>42385096230</td>\n",
       "      <td>NaN</td>\n",
       "    </tr>\n",
       "    <tr>\n",
       "      <th>26</th>\n",
       "      <td>65862033530</td>\n",
       "      <td>NaN</td>\n",
       "    </tr>\n",
       "    <tr>\n",
       "      <th>27</th>\n",
       "      <td>65862090030</td>\n",
       "      <td>NaN</td>\n",
       "    </tr>\n",
       "    <tr>\n",
       "      <th>28</th>\n",
       "      <td>68180028806</td>\n",
       "      <td>NaN</td>\n",
       "    </tr>\n",
       "    <tr>\n",
       "      <th>29</th>\n",
       "      <td>69097036202</td>\n",
       "      <td>NaN</td>\n",
       "    </tr>\n",
       "    <tr>\n",
       "      <th>7167</th>\n",
       "      <td>NaN</td>\n",
       "      <td>03784105</td>\n",
       "    </tr>\n",
       "    <tr>\n",
       "      <th>11318</th>\n",
       "      <td>NaN</td>\n",
       "      <td>09046874</td>\n",
       "    </tr>\n",
       "    <tr>\n",
       "      <th>21313</th>\n",
       "      <td>NaN</td>\n",
       "      <td>31722557</td>\n",
       "    </tr>\n",
       "    <tr>\n",
       "      <th>21315</th>\n",
       "      <td>NaN</td>\n",
       "      <td>31722562</td>\n",
       "    </tr>\n",
       "    <tr>\n",
       "      <th>28348</th>\n",
       "      <td>NaN</td>\n",
       "      <td>42385962</td>\n",
       "    </tr>\n",
       "    <tr>\n",
       "      <th>36403</th>\n",
       "      <td>NaN</td>\n",
       "      <td>49702206</td>\n",
       "    </tr>\n",
       "    <tr>\n",
       "      <th>36409</th>\n",
       "      <td>NaN</td>\n",
       "      <td>49702217</td>\n",
       "    </tr>\n",
       "    <tr>\n",
       "      <th>36410</th>\n",
       "      <td>NaN</td>\n",
       "      <td>49702221</td>\n",
       "    </tr>\n",
       "    <tr>\n",
       "      <th>36411</th>\n",
       "      <td>NaN</td>\n",
       "      <td>49702222</td>\n",
       "    </tr>\n",
       "    <tr>\n",
       "      <th>36417</th>\n",
       "      <td>NaN</td>\n",
       "      <td>49702231</td>\n",
       "    </tr>\n",
       "    <tr>\n",
       "      <th>36428</th>\n",
       "      <td>NaN</td>\n",
       "      <td>49702258</td>\n",
       "    </tr>\n",
       "    <tr>\n",
       "      <th>38798</th>\n",
       "      <td>NaN</td>\n",
       "      <td>50268049</td>\n",
       "    </tr>\n",
       "    <tr>\n",
       "      <th>40546</th>\n",
       "      <td>NaN</td>\n",
       "      <td>51079204</td>\n",
       "    </tr>\n",
       "    <tr>\n",
       "      <th>66593</th>\n",
       "      <td>NaN</td>\n",
       "      <td>64380717</td>\n",
       "    </tr>\n",
       "    <tr>\n",
       "      <th>67869</th>\n",
       "      <td>NaN</td>\n",
       "      <td>64980405</td>\n",
       "    </tr>\n",
       "    <tr>\n",
       "      <th>69424</th>\n",
       "      <td>NaN</td>\n",
       "      <td>65862073</td>\n",
       "    </tr>\n",
       "    <tr>\n",
       "      <th>69438</th>\n",
       "      <td>NaN</td>\n",
       "      <td>65862089</td>\n",
       "    </tr>\n",
       "    <tr>\n",
       "      <th>69563</th>\n",
       "      <td>NaN</td>\n",
       "      <td>65862335</td>\n",
       "    </tr>\n",
       "    <tr>\n",
       "      <th>74223</th>\n",
       "      <td>NaN</td>\n",
       "      <td>68084021</td>\n",
       "    </tr>\n",
       "    <tr>\n",
       "      <th>74657</th>\n",
       "      <td>NaN</td>\n",
       "      <td>68180286</td>\n",
       "    </tr>\n",
       "    <tr>\n",
       "      <th>74659</th>\n",
       "      <td>NaN</td>\n",
       "      <td>68180288</td>\n",
       "    </tr>\n",
       "    <tr>\n",
       "      <th>78416</th>\n",
       "      <td>NaN</td>\n",
       "      <td>69097362</td>\n",
       "    </tr>\n",
       "    <tr>\n",
       "      <th>78455</th>\n",
       "      <td>NaN</td>\n",
       "      <td>69097514</td>\n",
       "    </tr>\n",
       "    <tr>\n",
       "      <th>83943</th>\n",
       "      <td>NaN</td>\n",
       "      <td>705181274</td>\n",
       "    </tr>\n",
       "    <tr>\n",
       "      <th>85582</th>\n",
       "      <td>NaN</td>\n",
       "      <td>707101049</td>\n",
       "    </tr>\n",
       "    <tr>\n",
       "      <th>85986</th>\n",
       "      <td>NaN</td>\n",
       "      <td>707711053</td>\n",
       "    </tr>\n",
       "    <tr>\n",
       "      <th>95003</th>\n",
       "      <td>NaN</td>\n",
       "      <td>72865167</td>\n",
       "    </tr>\n",
       "  </tbody>\n",
       "</table>\n",
       "</div>"
      ],
      "text/plain": [
       "               ndc PRODUCTNDC\n",
       "12       378410591        NaN\n",
       "13       904687404        NaN\n",
       "14       904687406        NaN\n",
       "15     31722055760        NaN\n",
       "16     50268004911        NaN\n",
       "17     50268004912        NaN\n",
       "18     51079020401        NaN\n",
       "19     51079020406        NaN\n",
       "20     64380071703        NaN\n",
       "21     65862007360        NaN\n",
       "22     68084002111        NaN\n",
       "23     68084002121        NaN\n",
       "24     69097051403        NaN\n",
       "25     42385096230        NaN\n",
       "26     65862033530        NaN\n",
       "27     65862090030        NaN\n",
       "28     68180028806        NaN\n",
       "29     69097036202        NaN\n",
       "7167           NaN   03784105\n",
       "11318          NaN   09046874\n",
       "21313          NaN   31722557\n",
       "21315          NaN   31722562\n",
       "28348          NaN   42385962\n",
       "36403          NaN   49702206\n",
       "36409          NaN   49702217\n",
       "36410          NaN   49702221\n",
       "36411          NaN   49702222\n",
       "36417          NaN   49702231\n",
       "36428          NaN   49702258\n",
       "38798          NaN   50268049\n",
       "40546          NaN   51079204\n",
       "66593          NaN   64380717\n",
       "67869          NaN   64980405\n",
       "69424          NaN   65862073\n",
       "69438          NaN   65862089\n",
       "69563          NaN   65862335\n",
       "74223          NaN   68084021\n",
       "74657          NaN   68180286\n",
       "74659          NaN   68180288\n",
       "78416          NaN   69097362\n",
       "78455          NaN   69097514\n",
       "83943          NaN  705181274\n",
       "85582          NaN  707101049\n",
       "85986          NaN  707711053\n",
       "95003          NaN   72865167"
      ]
     },
     "execution_count": 213,
     "metadata": {},
     "output_type": "execute_result"
    }
   ],
   "source": [
    "similar = pd.concat([var_pricing['ndc'],var_fda['PRODUCTNDC']], axis=1)\n",
    "similar"
   ]
  },
  {
   "cell_type": "markdown",
   "metadata": {},
   "source": [
    "FDA data do not include the last 2 digits relating to packaging/dosage for NDC.\n",
    "\n",
    "Documentation says that medicaid/medicare data DOES include the last two digits; but this does not look to be the case. Documentation also says **incorrectly** that NDC is 11 digits."
   ]
  },
  {
   "cell_type": "code",
   "execution_count": 214,
   "metadata": {},
   "outputs": [
    {
     "data": {
      "text/plain": [
       "12      3784105\n",
       "13      9046874\n",
       "14      9046874\n",
       "15    317220557\n",
       "16    502680049\n",
       "17    502680049\n",
       "18    510790204\n",
       "19    510790204\n",
       "20    643800717\n",
       "21    658620073\n",
       "22    680840021\n",
       "23    680840021\n",
       "24    690970514\n",
       "25    423850962\n",
       "26    658620335\n",
       "27    658620900\n",
       "28    681800288\n",
       "29    690970362\n",
       "Name: ndc, dtype: object"
      ]
     },
     "execution_count": 214,
     "metadata": {},
     "output_type": "execute_result"
    }
   ],
   "source": [
    "loct = var_pricing['ndc'].str[:-2]\n",
    "loct"
   ]
  },
  {
   "cell_type": "code",
   "execution_count": null,
   "metadata": {},
   "outputs": [],
   "source": [
    "# hoped to just do a change to remove extra zeros based on regex but it's not working well; will just use (probably slower) loop\n",
    "pattern = r'(?<!00|0{3})0{2}(?!00|0{3})'\n",
    "\n",
    "selected_rows = var_pricing[var_pricing['ndc'].str.contains(pattern)]\n",
    "\n",
    "print(selected_rows)"
   ]
  },
  {
   "cell_type": "code",
   "execution_count": 241,
   "metadata": {},
   "outputs": [],
   "source": [
    "lista = []\n",
    "listb = []\n",
    "\n",
    "for x in list(loct.index):\n",
    "    if loct[x][-4:-2] == '00':\n",
    "        lista.append(x)\n",
    "    elif  loct[x][-5:-3] == '00':\n",
    "        listb.append(x)"
   ]
  },
  {
   "cell_type": "code",
   "execution_count": 272,
   "metadata": {},
   "outputs": [
    {
     "data": {
      "text/plain": [
       "12    03784105\n",
       "13    09046874\n",
       "14    09046874\n",
       "15    31722557\n",
       "16    50268049\n",
       "17    50268049\n",
       "18    51079204\n",
       "19    51079204\n",
       "20    64380717\n",
       "21    65862073\n",
       "22    68084021\n",
       "23    68084021\n",
       "24    69097514\n",
       "25    42385962\n",
       "26    65862335\n",
       "27    65862900\n",
       "28    68180288\n",
       "29    69097362\n",
       "Name: ndc, dtype: object"
      ]
     },
     "execution_count": 272,
     "metadata": {},
     "output_type": "execute_result"
    }
   ],
   "source": [
    "# pricing\n",
    "for x in list(loct.index):\n",
    "    value = loct[x]\n",
    "    if value[-4:-2] == '00':\n",
    "        loct[x] = value[:-4]+value[-3:]\n",
    "    elif value[-5:-3] == '00':\n",
    "        loct[x] = val2=value[:-5]+value[-4:]\n",
    "    elif value[-4] == '0' and len(value) == 9:\n",
    "        loct[x] = value[:-4]+value[-3:]\n",
    "    elif len(value) < 8:\n",
    "        loct[x] = \"0\" + value\n",
    "loct\n",
    "# loct.str.len().mean()"
   ]
  },
  {
   "cell_type": "code",
   "execution_count": 242,
   "metadata": {},
   "outputs": [
    {
     "name": "stdout",
     "output_type": "stream",
     "text": [
      "502680049\n",
      "502680049\n",
      "658620073\n",
      "680840021\n",
      "680840021\n"
     ]
    }
   ],
   "source": [
    "for x in lista:\n",
    "    print(loct[x])"
   ]
  },
  {
   "cell_type": "code",
   "execution_count": 243,
   "metadata": {},
   "outputs": [
    {
     "name": "stdout",
     "output_type": "stream",
     "text": [
      "643800717\n",
      "681800288\n"
     ]
    }
   ],
   "source": [
    "for x in listb:\n",
    "    print(loct[x])"
   ]
  },
  {
   "cell_type": "code",
   "execution_count": 257,
   "metadata": {},
   "outputs": [
    {
     "name": "stdout",
     "output_type": "stream",
     "text": [
      "502680049\n",
      "50268049\n"
     ]
    }
   ],
   "source": [
    "val = '502680049'\n",
    "val2=val[:-4]+val[-3:]"
   ]
  },
  {
   "cell_type": "code",
   "execution_count": 262,
   "metadata": {},
   "outputs": [
    {
     "name": "stdout",
     "output_type": "stream",
     "text": [
      "643800717\n",
      "64380717\n"
     ]
    }
   ],
   "source": [
    "val = '643800717'\n",
    "val2=val[:-5]+val[-4:]\n"
   ]
  },
  {
   "cell_type": "code",
   "execution_count": 279,
   "metadata": {},
   "outputs": [
    {
     "data": {
      "text/plain": [
       "7167      03784105\n",
       "11318     09046874\n",
       "21313     31722557\n",
       "21315     31722562\n",
       "28348     42385962\n",
       "36403     49702206\n",
       "36409     49702217\n",
       "36410     49702221\n",
       "36411     49702222\n",
       "36417     49702231\n",
       "36428     49702258\n",
       "38798     50268049\n",
       "40546     51079204\n",
       "66593     64380717\n",
       "67869     64980405\n",
       "69424     65862073\n",
       "69438     65862089\n",
       "69563     65862335\n",
       "74223     68084021\n",
       "74657     68180286\n",
       "74659     68180288\n",
       "78416     69097362\n",
       "78455     69097514\n",
       "83943    705181274\n",
       "85582    707101049\n",
       "85986    707711053\n",
       "95003     72865167\n",
       "Name: PRODUCTNDC, dtype: object"
      ]
     },
     "execution_count": 279,
     "metadata": {},
     "output_type": "execute_result"
    }
   ],
   "source": [
    "var_fda['PRODUCTNDC']"
   ]
  },
  {
   "cell_type": "code",
   "execution_count": null,
   "metadata": {},
   "outputs": [],
   "source": [
    "var_fda[var_fda['PRODUCTNDC'].str.len() == 8]"
   ]
  },
  {
   "cell_type": "code",
   "execution_count": 289,
   "metadata": {},
   "outputs": [
    {
     "name": "stdout",
     "output_type": "stream",
     "text": [
      "found one\n",
      "found one\n",
      "found one\n",
      "found one\n",
      "found one\n",
      "found one\n",
      "found one\n",
      "found one\n",
      "found one\n",
      "found one\n",
      "found one\n",
      "found one\n",
      "found one\n",
      "found one\n",
      "found one\n",
      "fml 65862900\n",
      "found one\n",
      "found one\n"
     ]
    }
   ],
   "source": [
    "for x in loct:\n",
    "    if var_fda['PRODUCTNDC'].str.contains(x).sum() > 0:\n",
    "        print('found one')\n",
    "    else:\n",
    "        print(f'fml {x}')"
   ]
  },
  {
   "cell_type": "code",
   "execution_count": 290,
   "metadata": {},
   "outputs": [
    {
     "data": {
      "text/plain": [
       "12    03784105\n",
       "13    09046874\n",
       "14    09046874\n",
       "15    31722557\n",
       "16    50268049\n",
       "17    50268049\n",
       "18    51079204\n",
       "19    51079204\n",
       "20    64380717\n",
       "21    65862073\n",
       "22    68084021\n",
       "23    68084021\n",
       "24    69097514\n",
       "25    42385962\n",
       "26    65862335\n",
       "27    65862900\n",
       "28    68180288\n",
       "29    69097362\n",
       "Name: ndc, dtype: object"
      ]
     },
     "execution_count": 290,
     "metadata": {},
     "output_type": "execute_result"
    }
   ],
   "source": [
    "loct"
   ]
  },
  {
   "cell_type": "code",
   "execution_count": 287,
   "metadata": {},
   "outputs": [
    {
     "data": {
      "text/plain": [
       "1"
      ]
     },
     "execution_count": 287,
     "metadata": {},
     "output_type": "execute_result"
    }
   ],
   "source": [
    "x='31722562'\n",
    "var_fda['PRODUCTNDC'].str.contains(x).sum()"
   ]
  }
 ],
 "metadata": {
  "kernelspec": {
   "display_name": "AKStandard",
   "language": "python",
   "name": "python3"
  },
  "language_info": {
   "codemirror_mode": {
    "name": "ipython",
    "version": 3
   },
   "file_extension": ".py",
   "mimetype": "text/x-python",
   "name": "python",
   "nbconvert_exporter": "python",
   "pygments_lexer": "ipython3",
   "version": "3.10.8"
  }
 },
 "nbformat": 4,
 "nbformat_minor": 2
}
